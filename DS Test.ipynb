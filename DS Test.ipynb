{
 "cells": [
  {
   "cell_type": "markdown",
   "id": "d9351429",
   "metadata": {},
   "source": [
    "# 1. Exploratorio de datos"
   ]
  },
  {
   "cell_type": "code",
   "execution_count": 1,
   "id": "4e3eb17c",
   "metadata": {},
   "outputs": [
    {
     "name": "stdout",
     "output_type": "stream",
     "text": [
      "Cantidad de registros: (700000, 14)\n"
     ]
    },
    {
     "data": {
      "text/html": [
       "<div>\n",
       "<style scoped>\n",
       "    .dataframe tbody tr th:only-of-type {\n",
       "        vertical-align: middle;\n",
       "    }\n",
       "\n",
       "    .dataframe tbody tr th {\n",
       "        vertical-align: top;\n",
       "    }\n",
       "\n",
       "    .dataframe thead th {\n",
       "        text-align: right;\n",
       "    }\n",
       "</style>\n",
       "<table border=\"1\" class=\"dataframe\">\n",
       "  <thead>\n",
       "    <tr style=\"text-align: right;\">\n",
       "      <th></th>\n",
       "      <th>trip_id</th>\n",
       "      <th>duration</th>\n",
       "      <th>start_time</th>\n",
       "      <th>end_time</th>\n",
       "      <th>start_lat</th>\n",
       "      <th>start_lon</th>\n",
       "      <th>end_lat</th>\n",
       "      <th>end_lon</th>\n",
       "      <th>bike_id</th>\n",
       "      <th>plan_duration</th>\n",
       "      <th>trip_route_category</th>\n",
       "      <th>passholder_type</th>\n",
       "      <th>start_station</th>\n",
       "      <th>end_station</th>\n",
       "    </tr>\n",
       "  </thead>\n",
       "  <tbody>\n",
       "    <tr>\n",
       "      <th>0</th>\n",
       "      <td>101750280</td>\n",
       "      <td>35</td>\n",
       "      <td>2018-08-07 11:20:00</td>\n",
       "      <td>2018-08-07 11:55:00</td>\n",
       "      <td>33.748920</td>\n",
       "      <td>-118.275192</td>\n",
       "      <td>33.748920</td>\n",
       "      <td>-118.275192</td>\n",
       "      <td>06530</td>\n",
       "      <td>1.0</td>\n",
       "      <td>Round Trip</td>\n",
       "      <td>Walk-up</td>\n",
       "      <td>4127</td>\n",
       "      <td>4127</td>\n",
       "    </tr>\n",
       "    <tr>\n",
       "      <th>1</th>\n",
       "      <td>46560345</td>\n",
       "      <td>32</td>\n",
       "      <td>9/17/2017 17:51</td>\n",
       "      <td>9/17/2017 18:23</td>\n",
       "      <td>34.035679</td>\n",
       "      <td>-118.270813</td>\n",
       "      <td>34.047749</td>\n",
       "      <td>-118.243172</td>\n",
       "      <td>6683</td>\n",
       "      <td>0.0</td>\n",
       "      <td>One Way</td>\n",
       "      <td>Walk-up</td>\n",
       "      <td>3057</td>\n",
       "      <td>3062</td>\n",
       "    </tr>\n",
       "    <tr>\n",
       "      <th>2</th>\n",
       "      <td>120016336</td>\n",
       "      <td>6</td>\n",
       "      <td>2019-04-22 09:22:00</td>\n",
       "      <td>2019-04-22 09:28:00</td>\n",
       "      <td>34.046070</td>\n",
       "      <td>-118.233093</td>\n",
       "      <td>34.047749</td>\n",
       "      <td>-118.243172</td>\n",
       "      <td>06710</td>\n",
       "      <td>30.0</td>\n",
       "      <td>One Way</td>\n",
       "      <td>Monthly Pass</td>\n",
       "      <td>3022</td>\n",
       "      <td>3062</td>\n",
       "    </tr>\n",
       "    <tr>\n",
       "      <th>3</th>\n",
       "      <td>129547190</td>\n",
       "      <td>138</td>\n",
       "      <td>9/22/2019 11:27</td>\n",
       "      <td>9/22/2019 13:45</td>\n",
       "      <td>34.062580</td>\n",
       "      <td>-118.290092</td>\n",
       "      <td>34.059689</td>\n",
       "      <td>-118.294662</td>\n",
       "      <td>17068</td>\n",
       "      <td>1.0</td>\n",
       "      <td>One Way</td>\n",
       "      <td>One Day Pass</td>\n",
       "      <td>4304</td>\n",
       "      <td>4311</td>\n",
       "    </tr>\n",
       "    <tr>\n",
       "      <th>4</th>\n",
       "      <td>136619463</td>\n",
       "      <td>14</td>\n",
       "      <td>1/31/2020 17:11</td>\n",
       "      <td>1/31/2020 17:25</td>\n",
       "      <td>34.026291</td>\n",
       "      <td>-118.277687</td>\n",
       "      <td>34.021660</td>\n",
       "      <td>-118.278687</td>\n",
       "      <td>18841</td>\n",
       "      <td>30.0</td>\n",
       "      <td>One Way</td>\n",
       "      <td>Monthly Pass</td>\n",
       "      <td>4266</td>\n",
       "      <td>4443</td>\n",
       "    </tr>\n",
       "  </tbody>\n",
       "</table>\n",
       "</div>"
      ],
      "text/plain": [
       "     trip_id  duration           start_time             end_time  start_lat  \\\n",
       "0  101750280        35  2018-08-07 11:20:00  2018-08-07 11:55:00  33.748920   \n",
       "1   46560345        32      9/17/2017 17:51      9/17/2017 18:23  34.035679   \n",
       "2  120016336         6  2019-04-22 09:22:00  2019-04-22 09:28:00  34.046070   \n",
       "3  129547190       138      9/22/2019 11:27      9/22/2019 13:45  34.062580   \n",
       "4  136619463        14      1/31/2020 17:11      1/31/2020 17:25  34.026291   \n",
       "\n",
       "    start_lon    end_lat     end_lon bike_id  plan_duration  \\\n",
       "0 -118.275192  33.748920 -118.275192   06530            1.0   \n",
       "1 -118.270813  34.047749 -118.243172    6683            0.0   \n",
       "2 -118.233093  34.047749 -118.243172   06710           30.0   \n",
       "3 -118.290092  34.059689 -118.294662   17068            1.0   \n",
       "4 -118.277687  34.021660 -118.278687   18841           30.0   \n",
       "\n",
       "  trip_route_category passholder_type  start_station  end_station  \n",
       "0          Round Trip         Walk-up           4127         4127  \n",
       "1             One Way         Walk-up           3057         3062  \n",
       "2             One Way    Monthly Pass           3022         3062  \n",
       "3             One Way    One Day Pass           4304         4311  \n",
       "4             One Way    Monthly Pass           4266         4443  "
      ]
     },
     "execution_count": 1,
     "metadata": {},
     "output_type": "execute_result"
    }
   ],
   "source": [
    "import pandas as pd\n",
    "import numpy as np\n",
    "import datetime\n",
    "import seaborn as sns\n",
    "import warnings\n",
    "import matplotlib.pyplot as plt\n",
    "warnings.filterwarnings('ignore')\n",
    "\n",
    "data = pd.read_csv('train_set.csv')\n",
    "print('Cantidad de registros:', data.shape)\n",
    "data.head()"
   ]
  },
  {
   "cell_type": "markdown",
   "id": "be851eb8",
   "metadata": {},
   "source": [
    "### Tipo de datos\n",
    "* Las fechas actualmente se reconocen como objetos.\n",
    "* bike_id contiene 17 registros alfanuméricos, como son 15111a y _Test_RFID. Prescindiremos de ellos, pues son una minoría, 8 de ellos duran solo un minuto, y, en su mayoría, emplean la estación 3000. Lejos de enriquecer el modelo, lo entorpecen. Además no es coherente con la definicion del tipo de dato, debe ser de tipo entero."
   ]
  },
  {
   "cell_type": "code",
   "execution_count": 2,
   "id": "e08ced2c",
   "metadata": {},
   "outputs": [
    {
     "data": {
      "text/plain": [
       "trip_id                  int64\n",
       "duration                 int64\n",
       "start_time              object\n",
       "end_time                object\n",
       "start_lat              float64\n",
       "start_lon              float64\n",
       "end_lat                float64\n",
       "end_lon                float64\n",
       "bike_id                 object\n",
       "plan_duration          float64\n",
       "trip_route_category     object\n",
       "passholder_type         object\n",
       "start_station            int64\n",
       "end_station              int64\n",
       "dtype: object"
      ]
     },
     "execution_count": 2,
     "metadata": {},
     "output_type": "execute_result"
    }
   ],
   "source": [
    "data.dtypes"
   ]
  },
  {
   "cell_type": "markdown",
   "id": "b6e2cfd7",
   "metadata": {},
   "source": [
    "Transformaremos el tipo de dato en las fechas a datetime en formato ISO 8601 y eliminaremos las entradas alfanuméricas en bike_id."
   ]
  },
  {
   "cell_type": "code",
   "execution_count": 3,
   "id": "99840dc5",
   "metadata": {},
   "outputs": [
    {
     "name": "stdout",
     "output_type": "stream",
     "text": [
      "17\n"
     ]
    },
    {
     "data": {
      "text/html": [
       "<div>\n",
       "<style scoped>\n",
       "    .dataframe tbody tr th:only-of-type {\n",
       "        vertical-align: middle;\n",
       "    }\n",
       "\n",
       "    .dataframe tbody tr th {\n",
       "        vertical-align: top;\n",
       "    }\n",
       "\n",
       "    .dataframe thead th {\n",
       "        text-align: right;\n",
       "    }\n",
       "</style>\n",
       "<table border=\"1\" class=\"dataframe\">\n",
       "  <thead>\n",
       "    <tr style=\"text-align: right;\">\n",
       "      <th></th>\n",
       "      <th>trip_id</th>\n",
       "      <th>duration</th>\n",
       "      <th>start_time</th>\n",
       "      <th>end_time</th>\n",
       "      <th>start_lat</th>\n",
       "      <th>start_lon</th>\n",
       "      <th>end_lat</th>\n",
       "      <th>end_lon</th>\n",
       "      <th>bike_id</th>\n",
       "      <th>plan_duration</th>\n",
       "      <th>trip_route_category</th>\n",
       "      <th>passholder_type</th>\n",
       "      <th>start_station</th>\n",
       "      <th>end_station</th>\n",
       "    </tr>\n",
       "  </thead>\n",
       "  <tbody>\n",
       "    <tr>\n",
       "      <th>47777</th>\n",
       "      <td>150316878</td>\n",
       "      <td>12</td>\n",
       "      <td>11/25/2020 10:02</td>\n",
       "      <td>11/25/2020 10:14</td>\n",
       "      <td>34.000881</td>\n",
       "      <td>-118.468910</td>\n",
       "      <td>33.984341</td>\n",
       "      <td>-118.471550</td>\n",
       "      <td>15111a</td>\n",
       "      <td>30.0</td>\n",
       "      <td>One Way</td>\n",
       "      <td>Monthly Pass</td>\n",
       "      <td>4207</td>\n",
       "      <td>4210</td>\n",
       "    </tr>\n",
       "    <tr>\n",
       "      <th>113003</th>\n",
       "      <td>152731884</td>\n",
       "      <td>1</td>\n",
       "      <td>1/27/2021 12:42</td>\n",
       "      <td>1/27/2021 12:43</td>\n",
       "      <td>34.025841</td>\n",
       "      <td>-118.238213</td>\n",
       "      <td>NaN</td>\n",
       "      <td>NaN</td>\n",
       "      <td>_Test_RFID</td>\n",
       "      <td>365.0</td>\n",
       "      <td>Round Trip</td>\n",
       "      <td>Annual Pass</td>\n",
       "      <td>3000</td>\n",
       "      <td>3000</td>\n",
       "    </tr>\n",
       "    <tr>\n",
       "      <th>170382</th>\n",
       "      <td>22396682</td>\n",
       "      <td>1</td>\n",
       "      <td>3/17/2017 13:17</td>\n",
       "      <td>3/17/2017 13:18</td>\n",
       "      <td>34.024479</td>\n",
       "      <td>-118.393867</td>\n",
       "      <td>34.024479</td>\n",
       "      <td>-118.393867</td>\n",
       "      <td>Dock Block 2</td>\n",
       "      <td>0.0</td>\n",
       "      <td>Round Trip</td>\n",
       "      <td>Walk-up</td>\n",
       "      <td>3039</td>\n",
       "      <td>3039</td>\n",
       "    </tr>\n",
       "    <tr>\n",
       "      <th>227852</th>\n",
       "      <td>152731389</td>\n",
       "      <td>1</td>\n",
       "      <td>1/27/2021 12:18</td>\n",
       "      <td>1/27/2021 12:19</td>\n",
       "      <td>34.025841</td>\n",
       "      <td>-118.238213</td>\n",
       "      <td>NaN</td>\n",
       "      <td>NaN</td>\n",
       "      <td>_Test_RFID</td>\n",
       "      <td>365.0</td>\n",
       "      <td>Round Trip</td>\n",
       "      <td>Annual Pass</td>\n",
       "      <td>3000</td>\n",
       "      <td>3000</td>\n",
       "    </tr>\n",
       "    <tr>\n",
       "      <th>260283</th>\n",
       "      <td>118119789</td>\n",
       "      <td>15</td>\n",
       "      <td>2019-03-25 09:03:00</td>\n",
       "      <td>2019-03-25 09:18:00</td>\n",
       "      <td>NaN</td>\n",
       "      <td>NaN</td>\n",
       "      <td>NaN</td>\n",
       "      <td>NaN</td>\n",
       "      <td>Rblock</td>\n",
       "      <td>365.0</td>\n",
       "      <td>Round Trip</td>\n",
       "      <td>Walk-up</td>\n",
       "      <td>3000</td>\n",
       "      <td>3000</td>\n",
       "    </tr>\n",
       "  </tbody>\n",
       "</table>\n",
       "</div>"
      ],
      "text/plain": [
       "          trip_id  duration           start_time             end_time  \\\n",
       "47777   150316878        12     11/25/2020 10:02     11/25/2020 10:14   \n",
       "113003  152731884         1      1/27/2021 12:42      1/27/2021 12:43   \n",
       "170382   22396682         1      3/17/2017 13:17      3/17/2017 13:18   \n",
       "227852  152731389         1      1/27/2021 12:18      1/27/2021 12:19   \n",
       "260283  118119789        15  2019-03-25 09:03:00  2019-03-25 09:18:00   \n",
       "\n",
       "        start_lat   start_lon    end_lat     end_lon       bike_id  \\\n",
       "47777   34.000881 -118.468910  33.984341 -118.471550        15111a   \n",
       "113003  34.025841 -118.238213        NaN         NaN    _Test_RFID   \n",
       "170382  34.024479 -118.393867  34.024479 -118.393867  Dock Block 2   \n",
       "227852  34.025841 -118.238213        NaN         NaN    _Test_RFID   \n",
       "260283        NaN         NaN        NaN         NaN        Rblock   \n",
       "\n",
       "        plan_duration trip_route_category passholder_type  start_station  \\\n",
       "47777            30.0             One Way    Monthly Pass           4207   \n",
       "113003          365.0          Round Trip     Annual Pass           3000   \n",
       "170382            0.0          Round Trip         Walk-up           3039   \n",
       "227852          365.0          Round Trip     Annual Pass           3000   \n",
       "260283          365.0          Round Trip         Walk-up           3000   \n",
       "\n",
       "        end_station  \n",
       "47777          4210  \n",
       "113003         3000  \n",
       "170382         3039  \n",
       "227852         3000  \n",
       "260283         3000  "
      ]
     },
     "execution_count": 3,
     "metadata": {},
     "output_type": "execute_result"
    }
   ],
   "source": [
    "alpha = data['bike_id'][pd.to_numeric(data['bike_id'], errors='coerce').isnull()]\n",
    "print(alpha.count())\n",
    "data.loc[list(alpha.index)].head()"
   ]
  },
  {
   "cell_type": "code",
   "execution_count": 4,
   "id": "229300d1",
   "metadata": {},
   "outputs": [
    {
     "name": "stdout",
     "output_type": "stream",
     "text": [
      "Cantidad de registros: (699983, 14)\n"
     ]
    },
    {
     "data": {
      "text/plain": [
       "start_time    datetime64[ns]\n",
       "end_time      datetime64[ns]\n",
       "bike_id                int32\n",
       "dtype: object"
      ]
     },
     "execution_count": 4,
     "metadata": {},
     "output_type": "execute_result"
    }
   ],
   "source": [
    "data['start_time'] = pd.to_datetime(data['start_time'],infer_datetime_format=True)\n",
    "data['end_time'] = pd.to_datetime(data['end_time'],infer_datetime_format=True)\n",
    "data = data.drop(alpha.index)\n",
    "data['bike_id'] = data['bike_id'].astype('int')\n",
    "print('Cantidad de registros:', data.shape)\n",
    "data.dtypes[[2,3,8]] #start, end time y bike_id"
   ]
  },
  {
   "cell_type": "markdown",
   "id": "01d3f563",
   "metadata": {},
   "source": [
    "## Saturación del servicio:\n",
    "### La empresa busca contar con la disponibilidad más alta de servicio en el mercado, por lo que se quiere entender cómo se comporta la demanda de servicio en las distintas estaciones y horarios para cada plan.\n",
    "Para este propósito, empleemos un subset de datos con las columnas: start_time, start_station y passholder_type.\n",
    "Los usuarios requieren la bicicleta disponible al inicio de su viaje, y, por tanto, en la estación inicial.\n",
    "Los horarios más concurridos para las estaciones en general, están entre las 10am y las 6pm."
   ]
  },
  {
   "cell_type": "code",
   "execution_count": 5,
   "id": "231062fd",
   "metadata": {},
   "outputs": [
    {
     "data": {
      "image/png": "[encoded data removed]",
      "text/plain": [
       "<Figure size 648x432 with 1 Axes>"
      ]
     },
     "metadata": {
      "needs_background": "light"
     },
     "output_type": "display_data"
    }
   ],
   "source": [
    "sat = data[['start_time','start_station','passholder_type']]\n",
    "sat = sat.set_index('start_time')\n",
    "sat.groupby([sat.index.hour,'passholder_type']).size().unstack().plot(figsize=(9,6), title=\"Horarios de demanda para cada plan\", grid=True);"
   ]
  },
  {
   "cell_type": "code",
   "execution_count": 6,
   "id": "35e5d459",
   "metadata": {},
   "outputs": [
    {
     "data": {
      "image/png": "[encoded data removed]",
      "text/plain": [
       "<Figure size 432x288 with 1 Axes>"
      ]
     },
     "metadata": {
      "needs_background": "light"
     },
     "output_type": "display_data"
    }
   ],
   "source": [
    "counts = sat['start_station'].value_counts()[:7]\n",
    "ax = sns.barplot(x=counts, y=counts.index, order=counts.index, orient='h')\n",
    "ax.set(title='Estaciones con mayor demanda', xlabel='Frecuencia');"
   ]
  },
  {
   "cell_type": "code",
   "execution_count": 7,
   "id": "9a6f8b4d",
   "metadata": {},
   "outputs": [
    {
     "data": {
      "image/png": "[encoded data removed]",
      "text/plain": [
       "<Figure size 720x360 with 1 Axes>"
      ]
     },
     "metadata": {
      "needs_background": "light"
     },
     "output_type": "display_data"
    }
   ],
   "source": [
    "stat_pass = data.groupby(['start_station','passholder_type']).size()\n",
    "top5 = list(counts.iloc[:7].index)\n",
    "stat_pass05 = stat_pass.loc[stat_pass.index.get_level_values(0).isin(top5)].sort_values()\n",
    "stat_pass05.unstack().plot(kind='barh', stacked=True, figsize=(10,5), title='Tipos de pase de las estaciones con mayor demanda.');"
   ]
  },
  {
   "cell_type": "markdown",
   "id": "e9ea9a2a",
   "metadata": {},
   "source": [
    "## Crecimiento de planes:\n",
    "### Se tiene la intuición que la tendencia en uso de bicicletas compartidas va a la alta, por lo que se requiere realizar una correcta planificación de bicicletas que deben tener. Adicionalmente, se espera que los planes de consumo anual crezcan en mayor proporción.\n",
    "Por lo que se observa en los gráficos, no existe una tendencia marcada en el uso de bicicletas o en el incremento de planes anuales y por el contrario, la tendencia va a la baja."
   ]
  },
  {
   "cell_type": "code",
   "execution_count": 8,
   "id": "1835c23d",
   "metadata": {},
   "outputs": [
    {
     "data": {
      "image/png": "[encoded data removed]",
      "text/plain": [
       "<Figure size 576x360 with 1 Axes>"
      ]
     },
     "metadata": {
      "needs_background": "light"
     },
     "output_type": "display_data"
    }
   ],
   "source": [
    "sat.resample('M').size().plot(figsize=(8,5), legend=False, title = 'Tendencia en el de bicicletas compartidas');"
   ]
  },
  {
   "cell_type": "code",
   "execution_count": 9,
   "id": "b7e1ddf7",
   "metadata": {},
   "outputs": [
    {
     "data": {
      "image/png": "[encoded data removed]",
      "text/plain": [
       "<Figure size 576x360 with 1 Axes>"
      ]
     },
     "metadata": {
      "needs_background": "light"
     },
     "output_type": "display_data"
    }
   ],
   "source": [
    "sat[sat['passholder_type']=='Annual Pass'].resample('M').size().plot(figsize=(8,5), legend=False, title='Tendencia del uso del plan de consumo anual');"
   ]
  },
  {
   "cell_type": "markdown",
   "id": "8ffbfb9f",
   "metadata": {},
   "source": [
    "# 2. Modelo analítico\n",
    "### Construya un modelo analítico que incluya los puntos indispensables a considerar para un modelo (feature engineering, diseño de train-test split, cross-validation, métricas de desempeño, entre otros.\n",
    "Lo primero será el tratamiento de datos nulos o faltantes."
   ]
  },
  {
   "cell_type": "code",
   "execution_count": 10,
   "id": "f8ecef42",
   "metadata": {},
   "outputs": [
    {
     "name": "stdout",
     "output_type": "stream",
     "text": [
      "Cantidad de registros: (699983, 14)\n"
     ]
    },
    {
     "data": {
      "text/plain": [
       "trip_id                    0\n",
       "duration                   0\n",
       "start_time                 0\n",
       "end_time                   0\n",
       "start_lat               5561\n",
       "start_lon               5561\n",
       "end_lat                18566\n",
       "end_lon                18566\n",
       "bike_id                    0\n",
       "plan_duration            207\n",
       "trip_route_category        0\n",
       "passholder_type         2576\n",
       "start_station              0\n",
       "end_station                0\n",
       "dtype: int64"
      ]
     },
     "execution_count": 10,
     "metadata": {},
     "output_type": "execute_result"
    }
   ],
   "source": [
    "df = data.copy()\n",
    "print('Cantidad de registros:', df.shape)\n",
    "df.isna().sum()"
   ]
  },
  {
   "cell_type": "markdown",
   "id": "a6dda59c",
   "metadata": {},
   "source": [
    "* Las latitudes y longitudes dependen de la ubicación de la estación. Para tomar en cuenta esta característica se sebe suprimir alguna de la(s) otra(s). Además las mediciones son imprecisas en sus últimos decimales.\n",
    "* Los registros que no contienen el tipo de plan del usuario no son de utilidad para el modelo, pues es la variable de interés.\n",
    "* Plan duration está directamente relacionada con el tipo de pase y no es posible emplearla como variable de entrada en el modelo, porque no contaremos con esta información a futuro. Sin embargo, podría usarse como output alternativo.\n",
    "* trip_route_category se relaciona con la estación de inicio y fin, sobre todo en los viajes redondos. Si queremos utilizar estas variables no podemos emplear modelos que asumen independencia. Lo segundo que podemos destacar es que esta variable es de tipo dicotómica, pues solo tenemos dos categorías: one way y round trip.\n",
    "* passholder_type contiene 5 categorías, una de ellas nombrada testing. Para los 78 registros, plan duration tiene un valor de 999, por lo que podemos inferir que corresponde a las pruebas del servicio y prescindiremos de ella al analizar los datos.\n",
    "* Todos los registros nulos de plan_duration corresponden a un pase mensual (passholder_type y viceversa."
   ]
  },
  {
   "cell_type": "code",
   "execution_count": 11,
   "id": "fcbc217c",
   "metadata": {
    "scrolled": true
   },
   "outputs": [
    {
     "data": {
      "text/plain": [
       "(2576, 14)"
      ]
     },
     "execution_count": 11,
     "metadata": {},
     "output_type": "execute_result"
    }
   ],
   "source": [
    "df[(df['passholder_type']=='Monthly Pass') & (df['plan_duration'].isnull())].shape # (207, 14)\n",
    "df[df['passholder_type'].isna() & (df['plan_duration']==30)].shape # (2576, 14)\n",
    "# df[(df['passholder_type']=='Testing') | (df['plan_duration']== 999)].tail(3)"
   ]
  },
  {
   "cell_type": "markdown",
   "id": "9a86b15d",
   "metadata": {},
   "source": [
    "Por lo tanto, las modificaciones que realizaremos tomando en cuenta las observaciones son:\n",
    "* Eliminar registros con categoría \"Testing\" en passholder_type y mapear NaNs.\n",
    "* Ponderar latitudes y longitudes.\n",
    "* Rellenar entradas nulas en plan_duration con el valor 30.\n",
    "* Rellenar passholder_type nulo con Monthly Pass.\n",
    "* Mapear la variable trip_route_category para convertirla en una variable numérica.\n",
    "\n",
    "### Feature engineering\n",
    "Se desea saber si es posible inferir si el tipo de pase es “Monthly Pass”, así que crearemos una columna numérica que lo represente. También agregaremos variables numéricas correspondientes al mes, día de la semana y hora, para medir su relación con la variable objetivo."
   ]
  },
  {
   "cell_type": "code",
   "execution_count": 12,
   "id": "b7d7af83",
   "metadata": {},
   "outputs": [
    {
     "name": "stdout",
     "output_type": "stream",
     "text": [
      "Cantidad de registros: (699905, 20)\n"
     ]
    },
    {
     "data": {
      "text/plain": [
       "trip_id                   0\n",
       "duration                  0\n",
       "start_time                0\n",
       "end_time                  0\n",
       "start_lat              4417\n",
       "start_lon              4417\n",
       "end_lat                6215\n",
       "end_lon                6215\n",
       "bike_id                   0\n",
       "plan_duration             0\n",
       "trip_route_category       0\n",
       "passholder_type           0\n",
       "start_station             0\n",
       "end_station               0\n",
       "trip_route_binary         0\n",
       "monthly_pass              0\n",
       "month                     0\n",
       "day                       0\n",
       "start_hour                0\n",
       "end_hour                  0\n",
       "dtype: int64"
      ]
     },
     "execution_count": 12,
     "metadata": {},
     "output_type": "execute_result"
    }
   ],
   "source": [
    "testing = df[df['passholder_type']=='Testing']\n",
    "df = df.drop(testing.index) # Eliminar testing\n",
    "\n",
    "df['start_lat'] = df.groupby('start_station')['start_lat'].transform('mean')\n",
    "df['start_lon'] = df.groupby('start_station')['start_lon'].transform('mean')\n",
    "df['end_lat'] = df.groupby('end_station')['end_lat'].transform('mean')\n",
    "df['end_lon'] = df.groupby('end_station')['end_lon'].transform('mean')\n",
    "\n",
    "df['passholder_type'] = df['passholder_type'].fillna('Monthly Pass')\n",
    "df['plan_duration'] = df['plan_duration'].fillna(30)\n",
    "\n",
    "trip_categ = {\"One Way\" : 0,\n",
    "            \"Round Trip\" : 1}\n",
    "df['trip_route_binary'] = df[\"trip_route_category\"].map(trip_categ)\n",
    "df['monthly_pass'] = df['passholder_type'].map(lambda x: 1 if x=='Monthly Pass' else 0)\n",
    "df['month'] = df['start_time'].dt.month\n",
    "df['day'] = df['start_time'].dt.dayofweek\n",
    "df['start_hour'] = df['start_time'].dt.hour\n",
    "df['end_hour'] = df['end_time'].dt.hour\n",
    "\n",
    "print('Cantidad de registros:', df.shape)\n",
    "df.isna().sum()"
   ]
  },
  {
   "cell_type": "markdown",
   "id": "41cf710e",
   "metadata": {},
   "source": [
    "No se tienen valores de latitud o longitud para entradas correspondientes a las estaciones 4285 y 4286."
   ]
  },
  {
   "cell_type": "code",
   "execution_count": 13,
   "id": "2fbe65a2",
   "metadata": {},
   "outputs": [
    {
     "data": {
      "text/html": [
       "<div>\n",
       "<style scoped>\n",
       "    .dataframe tbody tr th:only-of-type {\n",
       "        vertical-align: middle;\n",
       "    }\n",
       "\n",
       "    .dataframe tbody tr th {\n",
       "        vertical-align: top;\n",
       "    }\n",
       "\n",
       "    .dataframe thead th {\n",
       "        text-align: right;\n",
       "    }\n",
       "</style>\n",
       "<table border=\"1\" class=\"dataframe\">\n",
       "  <thead>\n",
       "    <tr style=\"text-align: right;\">\n",
       "      <th></th>\n",
       "      <th>start_lat</th>\n",
       "      <th>start_station</th>\n",
       "    </tr>\n",
       "  </thead>\n",
       "  <tbody>\n",
       "    <tr>\n",
       "      <th>92</th>\n",
       "      <td>NaN</td>\n",
       "      <td>4285</td>\n",
       "    </tr>\n",
       "    <tr>\n",
       "      <th>93</th>\n",
       "      <td>NaN</td>\n",
       "      <td>4286</td>\n",
       "    </tr>\n",
       "  </tbody>\n",
       "</table>\n",
       "</div>"
      ],
      "text/plain": [
       "    start_lat  start_station\n",
       "92        NaN           4285\n",
       "93        NaN           4286"
      ]
     },
     "execution_count": 13,
     "metadata": {},
     "output_type": "execute_result"
    }
   ],
   "source": [
    "df[['start_lat', 'start_station']][df.isna().any(1)].head(2)"
   ]
  },
  {
   "cell_type": "markdown",
   "id": "4ad728b1",
   "metadata": {},
   "source": [
    "Como trip_id es un identificador único de viaje, no será útil como predictor y plan_duration es una variable de la que no dispondremos sin conocer los valores de la variable objetivo."
   ]
  },
  {
   "cell_type": "code",
   "execution_count": 14,
   "id": "5b03b4da",
   "metadata": {},
   "outputs": [
    {
     "name": "stdout",
     "output_type": "stream",
     "text": [
      "Cantidad de registros: (691213, 18)\n"
     ]
    }
   ],
   "source": [
    "df = df.dropna()\n",
    "# df = df.fillna(0)\n",
    "df = df.drop(columns = ['trip_id', 'plan_duration'])\n",
    "print('Cantidad de registros:', df.shape)"
   ]
  },
  {
   "cell_type": "markdown",
   "id": "4102db68",
   "metadata": {},
   "source": [
    "### Identificación de outliers\n",
    "El valor máximo para la duración de un viaje es de 1440 minutos, es decir 24 horas. Considerando que el viaje es en bicicleta y que el 75% de los datos no sobrepasan el valor de 26, podría deberse a un error. Inspeccionaremos con más detalle."
   ]
  },
  {
   "cell_type": "code",
   "execution_count": 15,
   "id": "2e541ee9",
   "metadata": {},
   "outputs": [
    {
     "data": {
      "text/html": [
       "<div>\n",
       "<style scoped>\n",
       "    .dataframe tbody tr th:only-of-type {\n",
       "        vertical-align: middle;\n",
       "    }\n",
       "\n",
       "    .dataframe tbody tr th {\n",
       "        vertical-align: top;\n",
       "    }\n",
       "\n",
       "    .dataframe thead th {\n",
       "        text-align: right;\n",
       "    }\n",
       "</style>\n",
       "<table border=\"1\" class=\"dataframe\">\n",
       "  <thead>\n",
       "    <tr style=\"text-align: right;\">\n",
       "      <th></th>\n",
       "      <th>duration</th>\n",
       "      <th>start_lat</th>\n",
       "      <th>start_lon</th>\n",
       "      <th>end_lat</th>\n",
       "      <th>end_lon</th>\n",
       "      <th>bike_id</th>\n",
       "      <th>start_station</th>\n",
       "      <th>end_station</th>\n",
       "      <th>trip_route_binary</th>\n",
       "      <th>monthly_pass</th>\n",
       "      <th>month</th>\n",
       "      <th>day</th>\n",
       "      <th>start_hour</th>\n",
       "      <th>end_hour</th>\n",
       "    </tr>\n",
       "  </thead>\n",
       "  <tbody>\n",
       "    <tr>\n",
       "      <th>count</th>\n",
       "      <td>691213.000000</td>\n",
       "      <td>691213.000000</td>\n",
       "      <td>691213.000000</td>\n",
       "      <td>691213.000000</td>\n",
       "      <td>691213.000000</td>\n",
       "      <td>691213.000000</td>\n",
       "      <td>691213.000000</td>\n",
       "      <td>691213.000000</td>\n",
       "      <td>691213.000000</td>\n",
       "      <td>691213.000000</td>\n",
       "      <td>691213.000000</td>\n",
       "      <td>691213.000000</td>\n",
       "      <td>691213.000000</td>\n",
       "      <td>691213.000000</td>\n",
       "    </tr>\n",
       "    <tr>\n",
       "      <th>mean</th>\n",
       "      <td>36.982629</td>\n",
       "      <td>34.044959</td>\n",
       "      <td>-118.253792</td>\n",
       "      <td>34.043722</td>\n",
       "      <td>-118.259713</td>\n",
       "      <td>10785.087076</td>\n",
       "      <td>3489.410882</td>\n",
       "      <td>3479.492550</td>\n",
       "      <td>0.168073</td>\n",
       "      <td>0.571909</td>\n",
       "      <td>6.777627</td>\n",
       "      <td>3.019026</td>\n",
       "      <td>14.126193</td>\n",
       "      <td>14.357266</td>\n",
       "    </tr>\n",
       "    <tr>\n",
       "      <th>std</th>\n",
       "      <td>125.269055</td>\n",
       "      <td>0.305009</td>\n",
       "      <td>2.168783</td>\n",
       "      <td>0.271327</td>\n",
       "      <td>1.923719</td>\n",
       "      <td>6446.627489</td>\n",
       "      <td>612.787120</td>\n",
       "      <td>609.934551</td>\n",
       "      <td>0.373931</td>\n",
       "      <td>0.494802</td>\n",
       "      <td>3.361381</td>\n",
       "      <td>1.982094</td>\n",
       "      <td>4.653979</td>\n",
       "      <td>4.765544</td>\n",
       "    </tr>\n",
       "    <tr>\n",
       "      <th>min</th>\n",
       "      <td>1.000000</td>\n",
       "      <td>33.710979</td>\n",
       "      <td>-118.491341</td>\n",
       "      <td>33.710979</td>\n",
       "      <td>-118.491341</td>\n",
       "      <td>4727.000000</td>\n",
       "      <td>3000.000000</td>\n",
       "      <td>3000.000000</td>\n",
       "      <td>0.000000</td>\n",
       "      <td>0.000000</td>\n",
       "      <td>1.000000</td>\n",
       "      <td>0.000000</td>\n",
       "      <td>0.000000</td>\n",
       "      <td>0.000000</td>\n",
       "    </tr>\n",
       "    <tr>\n",
       "      <th>25%</th>\n",
       "      <td>7.000000</td>\n",
       "      <td>34.037460</td>\n",
       "      <td>-118.280510</td>\n",
       "      <td>34.035679</td>\n",
       "      <td>-118.279762</td>\n",
       "      <td>6198.000000</td>\n",
       "      <td>3030.000000</td>\n",
       "      <td>3030.000000</td>\n",
       "      <td>0.000000</td>\n",
       "      <td>0.000000</td>\n",
       "      <td>4.000000</td>\n",
       "      <td>1.000000</td>\n",
       "      <td>11.000000</td>\n",
       "      <td>11.000000</td>\n",
       "    </tr>\n",
       "    <tr>\n",
       "      <th>50%</th>\n",
       "      <td>13.000000</td>\n",
       "      <td>34.046695</td>\n",
       "      <td>-118.256668</td>\n",
       "      <td>34.046520</td>\n",
       "      <td>-118.256668</td>\n",
       "      <td>6706.000000</td>\n",
       "      <td>3064.000000</td>\n",
       "      <td>3063.000000</td>\n",
       "      <td>0.000000</td>\n",
       "      <td>1.000000</td>\n",
       "      <td>7.000000</td>\n",
       "      <td>3.000000</td>\n",
       "      <td>15.000000</td>\n",
       "      <td>15.000000</td>\n",
       "    </tr>\n",
       "    <tr>\n",
       "      <th>75%</th>\n",
       "      <td>26.000000</td>\n",
       "      <td>34.051941</td>\n",
       "      <td>-118.246422</td>\n",
       "      <td>34.050911</td>\n",
       "      <td>-118.243530</td>\n",
       "      <td>15789.000000</td>\n",
       "      <td>4212.000000</td>\n",
       "      <td>4212.000000</td>\n",
       "      <td>0.000000</td>\n",
       "      <td>1.000000</td>\n",
       "      <td>10.000000</td>\n",
       "      <td>5.000000</td>\n",
       "      <td>18.000000</td>\n",
       "      <td>18.000000</td>\n",
       "    </tr>\n",
       "    <tr>\n",
       "      <th>max</th>\n",
       "      <td>1440.000000</td>\n",
       "      <td>53.648009</td>\n",
       "      <td>22.834424</td>\n",
       "      <td>53.007694</td>\n",
       "      <td>18.237240</td>\n",
       "      <td>536682.000000</td>\n",
       "      <td>4594.000000</td>\n",
       "      <td>4594.000000</td>\n",
       "      <td>1.000000</td>\n",
       "      <td>1.000000</td>\n",
       "      <td>12.000000</td>\n",
       "      <td>6.000000</td>\n",
       "      <td>23.000000</td>\n",
       "      <td>23.000000</td>\n",
       "    </tr>\n",
       "  </tbody>\n",
       "</table>\n",
       "</div>"
      ],
      "text/plain": [
       "            duration      start_lat      start_lon        end_lat  \\\n",
       "count  691213.000000  691213.000000  691213.000000  691213.000000   \n",
       "mean       36.982629      34.044959    -118.253792      34.043722   \n",
       "std       125.269055       0.305009       2.168783       0.271327   \n",
       "min         1.000000      33.710979    -118.491341      33.710979   \n",
       "25%         7.000000      34.037460    -118.280510      34.035679   \n",
       "50%        13.000000      34.046695    -118.256668      34.046520   \n",
       "75%        26.000000      34.051941    -118.246422      34.050911   \n",
       "max      1440.000000      53.648009      22.834424      53.007694   \n",
       "\n",
       "             end_lon        bike_id  start_station    end_station  \\\n",
       "count  691213.000000  691213.000000  691213.000000  691213.000000   \n",
       "mean     -118.259713   10785.087076    3489.410882    3479.492550   \n",
       "std         1.923719    6446.627489     612.787120     609.934551   \n",
       "min      -118.491341    4727.000000    3000.000000    3000.000000   \n",
       "25%      -118.279762    6198.000000    3030.000000    3030.000000   \n",
       "50%      -118.256668    6706.000000    3064.000000    3063.000000   \n",
       "75%      -118.243530   15789.000000    4212.000000    4212.000000   \n",
       "max        18.237240  536682.000000    4594.000000    4594.000000   \n",
       "\n",
       "       trip_route_binary   monthly_pass          month            day  \\\n",
       "count      691213.000000  691213.000000  691213.000000  691213.000000   \n",
       "mean            0.168073       0.571909       6.777627       3.019026   \n",
       "std             0.373931       0.494802       3.361381       1.982094   \n",
       "min             0.000000       0.000000       1.000000       0.000000   \n",
       "25%             0.000000       0.000000       4.000000       1.000000   \n",
       "50%             0.000000       1.000000       7.000000       3.000000   \n",
       "75%             0.000000       1.000000      10.000000       5.000000   \n",
       "max             1.000000       1.000000      12.000000       6.000000   \n",
       "\n",
       "          start_hour       end_hour  \n",
       "count  691213.000000  691213.000000  \n",
       "mean       14.126193      14.357266  \n",
       "std         4.653979       4.765544  \n",
       "min         0.000000       0.000000  \n",
       "25%        11.000000      11.000000  \n",
       "50%        15.000000      15.000000  \n",
       "75%        18.000000      18.000000  \n",
       "max        23.000000      23.000000  "
      ]
     },
     "execution_count": 15,
     "metadata": {},
     "output_type": "execute_result"
    }
   ],
   "source": [
    "df.describe()"
   ]
  },
  {
   "cell_type": "markdown",
   "id": "af20d9ec",
   "metadata": {},
   "source": [
    "Según nuestro violinplot no podemos considerar aislados ni erróneos estos valores."
   ]
  },
  {
   "cell_type": "code",
   "execution_count": 16,
   "id": "e1748ff7",
   "metadata": {},
   "outputs": [
    {
     "data": {
      "image/png": "[encoded data removed]",
      "text/plain": [
       "<Figure size 432x288 with 1 Axes>"
      ]
     },
     "metadata": {
      "needs_background": "light"
     },
     "output_type": "display_data"
    }
   ],
   "source": [
    "from scipy.stats import skew, kurtosis\n",
    "sns.violinplot(x=df['duration'], color = 'c')\n",
    "plt.axvline(df['duration'].mean(), c='b', label = 'media:'+ str(round(df['duration'].mean(),2)))\n",
    "plt.legend();"
   ]
  },
  {
   "cell_type": "markdown",
   "id": "94bf3388",
   "metadata": {},
   "source": [
    "Por tanto, no tenemos una distribución normal, en la cual los valores de curtosis y asimetría son cercanos a cero.\n",
    "Para escalar nuestros datos no emplearemos StandardScaler, pues asume una distribución gaussiana."
   ]
  },
  {
   "cell_type": "code",
   "execution_count": 17,
   "id": "5e7f1e4d",
   "metadata": {},
   "outputs": [
    {
     "name": "stdout",
     "output_type": "stream",
     "text": [
      "Curtosis: 89.18579258906752\n",
      "Asimetría: 8.994344192545105\n"
     ]
    },
    {
     "data": {
      "image/png": "[encoded data removed]",
      "text/plain": [
       "<Figure size 432x288 with 1 Axes>"
      ]
     },
     "metadata": {
      "needs_background": "light"
     },
     "output_type": "display_data"
    }
   ],
   "source": [
    "df_num = df.copy()._get_numeric_data()\n",
    "print('Curtosis:', kurtosis( df_num['duration'] ))\n",
    "print('Asimetría:', skew( df_num['duration'] ));\n",
    "sns.kdeplot(df_num['duration']);"
   ]
  },
  {
   "cell_type": "markdown",
   "id": "feb72e6c",
   "metadata": {},
   "source": [
    "### ¿Qué variables impactan en la variable objetivo?\n",
    "Aparentemente las longitudes de inicio y fin, así como la variable de tiempo mes, no son variables significativas."
   ]
  },
  {
   "cell_type": "code",
   "execution_count": 18,
   "id": "afc38786",
   "metadata": {},
   "outputs": [
    {
     "data": {
      "image/png": "[encoded data removed]",
      "text/plain": [
       "<Figure size 720x360 with 1 Axes>"
      ]
     },
     "metadata": {
      "needs_background": "light"
     },
     "output_type": "display_data"
    }
   ],
   "source": [
    "df_num = df.copy()._get_numeric_data()\n",
    "df_num.corr()['monthly_pass'].sort_values(ascending=False)[1:].plot(kind='bar',figsize=(10,5));\n",
    "# df_num = df_num.drop(columns=['start_lon','end_lon'])\n",
    "df_num = df_num.drop(columns=['start_lon','end_lon','month'])"
   ]
  },
  {
   "cell_type": "code",
   "execution_count": 19,
   "id": "5acd92ed",
   "metadata": {
    "scrolled": true
   },
   "outputs": [
    {
     "data": {
      "text/plain": [
       "end_lat              0.023447\n",
       "bike_id              0.022749\n",
       "start_lat            0.019111\n",
       "start_hour          -0.036370\n",
       "end_hour            -0.055774\n",
       "day                 -0.155328\n",
       "duration            -0.174488\n",
       "end_station         -0.232564\n",
       "start_station       -0.240851\n",
       "trip_route_binary   -0.241873\n",
       "Name: monthly_pass, dtype: float64"
      ]
     },
     "execution_count": 19,
     "metadata": {},
     "output_type": "execute_result"
    }
   ],
   "source": [
    "df_num.corr()['monthly_pass'].sort_values(ascending=False)[1:]"
   ]
  },
  {
   "cell_type": "markdown",
   "id": "dd3ef1c2",
   "metadata": {},
   "source": [
    "Por último, es importante que cada clase de dato esté presente en una proporción balanceada. Tenemos una proporción del 57% al 43%, por lo que no será necesario hacer ningún tipo de remuestreo para emplear los datos de prueba."
   ]
  },
  {
   "cell_type": "code",
   "execution_count": 20,
   "id": "30bc9261",
   "metadata": {},
   "outputs": [
    {
     "data": {
      "text/plain": [
       "1    395311\n",
       "0    295902\n",
       "Name: monthly_pass, dtype: int64"
      ]
     },
     "execution_count": 20,
     "metadata": {},
     "output_type": "execute_result"
    }
   ],
   "source": [
    "df_num['monthly_pass'].value_counts()"
   ]
  },
  {
   "cell_type": "code",
   "execution_count": 21,
   "id": "1e5ab900",
   "metadata": {},
   "outputs": [
    {
     "data": {
      "text/plain": [
       "(691213, 11)"
      ]
     },
     "execution_count": 21,
     "metadata": {},
     "output_type": "execute_result"
    }
   ],
   "source": [
    "df_num.shape"
   ]
  },
  {
   "cell_type": "markdown",
   "id": "4b71f7fa",
   "metadata": {},
   "source": [
    "### Entrenamiento y prueba\n",
    "Dividiremos los datos en una proporción 80-20.Es decir, de los 699,905 registros 559,924 serán de entrenamiento y 139,981 de prueba."
   ]
  },
  {
   "cell_type": "code",
   "execution_count": 22,
   "id": "875cf496",
   "metadata": {},
   "outputs": [],
   "source": [
    "X = df_num.drop('monthly_pass', axis=1)\n",
    "y = df_num['monthly_pass']\n",
    "\n",
    "from sklearn.model_selection import train_test_split\n",
    "X_train, X_test, y_train, y_test = train_test_split(X, y, shuffle=True, test_size=0.2, random_state=3)\n",
    "\n",
    "from sklearn.preprocessing import MinMaxScaler\n",
    "scaler = MinMaxScaler() # Escalamos los datos\n",
    "X_train = scaler.fit_transform(X_train)\n",
    "X_test = scaler.transform(X_test)"
   ]
  },
  {
   "cell_type": "markdown",
   "id": "95e5c068",
   "metadata": {},
   "source": [
    "### Construcción del modelo\n",
    "Primero probamos distintos parámetros de configuración."
   ]
  },
  {
   "cell_type": "code",
   "execution_count": 23,
   "id": "d92b8436",
   "metadata": {},
   "outputs": [
    {
     "name": "stdout",
     "output_type": "stream",
     "text": [
      "Precision: 0.7434332411237723\n",
      "Exactitud: 0.7062853092019126\n",
      "Sensibilidad: 0.7418705363926454\n",
      "Especificidad: 0.6588719609927283\n"
     ]
    }
   ],
   "source": [
    "from sklearn import tree\n",
    "dtc = tree.DecisionTreeClassifier(random_state=0)\n",
    "dtc.fit(X_train, y_train)\n",
    "y_pred = dtc.predict(X_test)\n",
    "\n",
    "from sklearn import metrics\n",
    "cnf_matrix = metrics.confusion_matrix(y_test, y_pred)\n",
    "tn, fp, fn, tp = cnf_matrix.ravel()\n",
    "print(\"Precision:\",metrics.precision_score(y_test, y_pred))\n",
    "print(\"Exactitud:\",metrics.accuracy_score(y_test, y_pred))\n",
    "print(\"Sensibilidad:\",metrics.recall_score(y_test, y_pred))\n",
    "print(\"Especificidad:\", tn / (tn + fp))"
   ]
  },
  {
   "cell_type": "code",
   "execution_count": 24,
   "id": "e5874396",
   "metadata": {},
   "outputs": [
    {
     "name": "stdout",
     "output_type": "stream",
     "text": [
      "Score del modelo: 0.704 +/- 0.001\n"
     ]
    }
   ],
   "source": [
    "from sklearn.model_selection import cross_validate\n",
    "scores = cross_validate(dtc, X_train, y_train, scoring=\"accuracy\")\n",
    "print(f'Score del modelo: {scores[\"test_score\"].mean():.3f} +/- {scores[\"test_score\"].std():.3f}')"
   ]
  },
  {
   "cell_type": "markdown",
   "id": "f36cd981",
   "metadata": {},
   "source": [
    "### Interprete el resultado en contexto del problema y determine qué variables impactan en la predicción\n",
    "Entre las variables seleccionadas, las más significas para el modelo son la duración del viaje y la bicicleta empleada. El día, hora, las estaciones y su respectiva ubicación contribuyen cada una entre un 6 y 10% al modelo, mientras que la variable con menos contribución es trip_route, que hace referencia a si el viaje es de tipo redondo o no. Así, la decisión de adquirir el pase mensual no se fundamenta en una mayor o menor cantidad de viajes redondos."
   ]
  },
  {
   "cell_type": "code",
   "execution_count": 36,
   "id": "34f5eda2",
   "metadata": {},
   "outputs": [
    {
     "data": {
      "image/png": "[encoded data removed]",
      "text/plain": [
       "<Figure size 720x360 with 1 Axes>"
      ]
     },
     "metadata": {
      "needs_background": "light"
     },
     "output_type": "display_data"
    }
   ],
   "source": [
    "import matplotlib.ticker as mtick\n",
    "feat_imp = pd.Series(dtc.tree_.compute_feature_importances(normalize=True), index=X.columns)*100\n",
    "ax = feat_imp.nlargest(25).plot(kind='bar',figsize=(10,5), grid=True)\n",
    "ax.yaxis.set_major_formatter(mtick.PercentFormatter())"
   ]
  },
  {
   "cell_type": "markdown",
   "id": "fd2b5167",
   "metadata": {},
   "source": [
    "### ¿Cree que es un buen modelo?\n",
    "* La desventaja de elegir este modelo es que las variables de entrada, desde un principio, no presentaban una fuerte correlación con la variable objetivo, por lo tanto no conseguimos un alto score de predicción.\n",
    "\n",
    "Entre las ventajas tenemos:\n",
    "* El modelo es explicativo y podemos conocer el impacto de cada variable añadida, algo que no sucede con el empleo de redes neuronales, KNN o de random forest, en estos ultimos, se debe a que obtenemos un promedio de todos los árboles. En las soluciones de negocio es vital entender el impacto de las variables para la implementación de estrategias comerciales.\n",
    "* Entre las ventajas tenemos la fácil comprensión del modelo, incluso al aumentar las variables, algo que en otros modelos como una Máquina de soporte vectorial SVM no podrían ofrecer.\n",
    "* Finalmente, un árbol de decisión requiere una capacidad computacional mucho menor que la implementación de KNN.\n",
    "\n",
    "### ¿Qué variables adicionales añadiría para mejorar el modelo?\n",
    "* Las características de la bicicleta serían un factor muy enriquecedor para este estudio, considerando que la cantidad de bicicletas disponibles es alrededor del 1% del total de viajes realizados, es decir, son utilizadas cientos de veces.\n",
    "* Las características del cliente como género, edad, ocupación, entre otras, serían de gran utilidad para un análisis de segmentación de mercado.\n",
    "* La tabla de información de las estaciones tampoco se encontraba disponible."
   ]
  },
  {
   "cell_type": "markdown",
   "id": "4e44b0cb",
   "metadata": {},
   "source": [
    "# 3. Evaluación del modelo"
   ]
  },
  {
   "cell_type": "code",
   "execution_count": 26,
   "id": "1d24b2b8",
   "metadata": {},
   "outputs": [
    {
     "name": "stdout",
     "output_type": "stream",
     "text": [
      "Cantidad de registros: (569886, 12)\n"
     ]
    },
    {
     "data": {
      "text/html": [
       "<div>\n",
       "<style scoped>\n",
       "    .dataframe tbody tr th:only-of-type {\n",
       "        vertical-align: middle;\n",
       "    }\n",
       "\n",
       "    .dataframe tbody tr th {\n",
       "        vertical-align: top;\n",
       "    }\n",
       "\n",
       "    .dataframe thead th {\n",
       "        text-align: right;\n",
       "    }\n",
       "</style>\n",
       "<table border=\"1\" class=\"dataframe\">\n",
       "  <thead>\n",
       "    <tr style=\"text-align: right;\">\n",
       "      <th></th>\n",
       "      <th>trip_id</th>\n",
       "      <th>duration</th>\n",
       "      <th>start_time</th>\n",
       "      <th>end_time</th>\n",
       "      <th>start_lat</th>\n",
       "      <th>start_lon</th>\n",
       "      <th>end_lat</th>\n",
       "      <th>end_lon</th>\n",
       "      <th>bike_id</th>\n",
       "      <th>trip_route_category</th>\n",
       "      <th>start_station</th>\n",
       "      <th>end_station</th>\n",
       "    </tr>\n",
       "  </thead>\n",
       "  <tbody>\n",
       "    <tr>\n",
       "      <th>0</th>\n",
       "      <td>17059130</td>\n",
       "      <td>12</td>\n",
       "      <td>1/1/2017 0:24</td>\n",
       "      <td>1/1/2017 0:36</td>\n",
       "      <td>34.058319</td>\n",
       "      <td>-118.246094</td>\n",
       "      <td>34.058319</td>\n",
       "      <td>-118.246094</td>\n",
       "      <td>6351</td>\n",
       "      <td>Round Trip</td>\n",
       "      <td>3028</td>\n",
       "      <td>3028</td>\n",
       "    </tr>\n",
       "    <tr>\n",
       "      <th>1</th>\n",
       "      <td>17059129</td>\n",
       "      <td>17</td>\n",
       "      <td>1/1/2017 0:28</td>\n",
       "      <td>1/1/2017 0:45</td>\n",
       "      <td>34.049980</td>\n",
       "      <td>-118.247162</td>\n",
       "      <td>34.043732</td>\n",
       "      <td>-118.260139</td>\n",
       "      <td>5836</td>\n",
       "      <td>One Way</td>\n",
       "      <td>3027</td>\n",
       "      <td>3018</td>\n",
       "    </tr>\n",
       "    <tr>\n",
       "      <th>2</th>\n",
       "      <td>17059126</td>\n",
       "      <td>20</td>\n",
       "      <td>1/1/2017 0:39</td>\n",
       "      <td>1/1/2017 0:59</td>\n",
       "      <td>34.063389</td>\n",
       "      <td>-118.236160</td>\n",
       "      <td>34.044159</td>\n",
       "      <td>-118.251579</td>\n",
       "      <td>6529</td>\n",
       "      <td>One Way</td>\n",
       "      <td>3066</td>\n",
       "      <td>3055</td>\n",
       "    </tr>\n",
       "    <tr>\n",
       "      <th>3</th>\n",
       "      <td>17059125</td>\n",
       "      <td>12</td>\n",
       "      <td>1/1/2017 0:43</td>\n",
       "      <td>1/1/2017 0:55</td>\n",
       "      <td>34.048851</td>\n",
       "      <td>-118.246422</td>\n",
       "      <td>34.050140</td>\n",
       "      <td>-118.233238</td>\n",
       "      <td>6029</td>\n",
       "      <td>One Way</td>\n",
       "      <td>3029</td>\n",
       "      <td>3079</td>\n",
       "    </tr>\n",
       "    <tr>\n",
       "      <th>4</th>\n",
       "      <td>17061379</td>\n",
       "      <td>48</td>\n",
       "      <td>1/1/2017 0:56</td>\n",
       "      <td>1/1/2017 1:44</td>\n",
       "      <td>34.049198</td>\n",
       "      <td>-118.252831</td>\n",
       "      <td>34.049198</td>\n",
       "      <td>-118.252831</td>\n",
       "      <td>6680</td>\n",
       "      <td>Round Trip</td>\n",
       "      <td>3063</td>\n",
       "      <td>3063</td>\n",
       "    </tr>\n",
       "  </tbody>\n",
       "</table>\n",
       "</div>"
      ],
      "text/plain": [
       "    trip_id  duration     start_time       end_time  start_lat   start_lon  \\\n",
       "0  17059130        12  1/1/2017 0:24  1/1/2017 0:36  34.058319 -118.246094   \n",
       "1  17059129        17  1/1/2017 0:28  1/1/2017 0:45  34.049980 -118.247162   \n",
       "2  17059126        20  1/1/2017 0:39  1/1/2017 0:59  34.063389 -118.236160   \n",
       "3  17059125        12  1/1/2017 0:43  1/1/2017 0:55  34.048851 -118.246422   \n",
       "4  17061379        48  1/1/2017 0:56  1/1/2017 1:44  34.049198 -118.252831   \n",
       "\n",
       "     end_lat     end_lon bike_id trip_route_category  start_station  \\\n",
       "0  34.058319 -118.246094    6351          Round Trip           3028   \n",
       "1  34.043732 -118.260139    5836             One Way           3027   \n",
       "2  34.044159 -118.251579    6529             One Way           3066   \n",
       "3  34.050140 -118.233238    6029             One Way           3029   \n",
       "4  34.049198 -118.252831    6680          Round Trip           3063   \n",
       "\n",
       "   end_station  \n",
       "0         3028  \n",
       "1         3018  \n",
       "2         3055  \n",
       "3         3079  \n",
       "4         3063  "
      ]
     },
     "execution_count": 26,
     "metadata": {},
     "output_type": "execute_result"
    }
   ],
   "source": [
    "data_test = pd.read_csv('test_set.csv')\n",
    "print('Cantidad de registros:', data_test.shape)\n",
    "data_test.head()"
   ]
  },
  {
   "cell_type": "markdown",
   "id": "91d32847",
   "metadata": {},
   "source": [
    "Los datos al parecer requieren de todas las transformaciones anteriormente realizadas al set de entrenamiento."
   ]
  },
  {
   "cell_type": "code",
   "execution_count": 27,
   "id": "8de37ffb",
   "metadata": {},
   "outputs": [],
   "source": [
    "data_test['start_time'] = pd.to_datetime(data_test['start_time'],infer_datetime_format=True)\n",
    "data_test['end_time'] = pd.to_datetime(data_test['end_time'],infer_datetime_format=True)\n",
    "alpha = data_test['bike_id'][pd.to_numeric(data_test['bike_id'], errors='coerce').isnull()]\n",
    "data_test = data_test.replace(list(alpha.unique()), 1111) # testing en bike_id\n",
    "data_test['bike_id'] = data_test['bike_id'].astype('int')\n",
    "df_test = data_test.copy()\n",
    "df_test['start_lat'] = df_test.groupby('start_station')['start_lat'].transform('mean')\n",
    "df_test['start_lon'] = df_test.groupby('start_station')['start_lon'].transform('mean')\n",
    "df_test['end_lat'] = df_test.groupby('end_station')['end_lat'].transform('mean')\n",
    "df_test['end_lon'] = df_test.groupby('end_station')['end_lon'].transform('mean')\n",
    "\n",
    "trip_categ = {\"One Way\" : 0,\n",
    "            \"Round Trip\" : 1}\n",
    "df_test['trip_route_binary'] = df_test[\"trip_route_category\"].map(trip_categ)\n",
    "df_test['day'] = df_test['start_time'].dt.dayofweek\n",
    "df_test['start_hour'] = df_test['start_time'].dt.hour\n",
    "df_test['end_hour'] = df_test['end_time'].dt.hour\n",
    "df_test = df_test.fillna(0) # En las latitudes para las estaciones 4285 y 4286\n",
    "df_test = df_test.drop(columns = ['trip_id','start_time','end_time', 'start_lon', 'end_lon'])\n",
    "df_test_num = df_test.copy()._get_numeric_data()\n",
    "\n",
    "X_test_submission = scaler.transform(df_test_num)\n",
    "y_pred_submission = dtc.predict(X_test_submission)"
   ]
  },
  {
   "cell_type": "code",
   "execution_count": 39,
   "id": "855543b1",
   "metadata": {},
   "outputs": [],
   "source": [
    "# data_test[(data_test['start_station']==4285)|(data_test['start_station']==4286)] # 3642 rows × 12 columns"
   ]
  },
  {
   "cell_type": "code",
   "execution_count": 29,
   "id": "64c4d429",
   "metadata": {},
   "outputs": [
    {
     "data": {
      "text/html": [
       "<div>\n",
       "<style scoped>\n",
       "    .dataframe tbody tr th:only-of-type {\n",
       "        vertical-align: middle;\n",
       "    }\n",
       "\n",
       "    .dataframe tbody tr th {\n",
       "        vertical-align: top;\n",
       "    }\n",
       "\n",
       "    .dataframe thead th {\n",
       "        text-align: right;\n",
       "    }\n",
       "</style>\n",
       "<table border=\"1\" class=\"dataframe\">\n",
       "  <thead>\n",
       "    <tr style=\"text-align: right;\">\n",
       "      <th></th>\n",
       "      <th>trip_id</th>\n",
       "      <th>passholder_type</th>\n",
       "    </tr>\n",
       "  </thead>\n",
       "  <tbody>\n",
       "    <tr>\n",
       "      <th>0</th>\n",
       "      <td>17059130</td>\n",
       "      <td>Monthly Pass</td>\n",
       "    </tr>\n",
       "    <tr>\n",
       "      <th>1</th>\n",
       "      <td>17059129</td>\n",
       "      <td>None</td>\n",
       "    </tr>\n",
       "    <tr>\n",
       "      <th>2</th>\n",
       "      <td>17059126</td>\n",
       "      <td>Monthly Pass</td>\n",
       "    </tr>\n",
       "    <tr>\n",
       "      <th>3</th>\n",
       "      <td>17059125</td>\n",
       "      <td>None</td>\n",
       "    </tr>\n",
       "    <tr>\n",
       "      <th>4</th>\n",
       "      <td>17061379</td>\n",
       "      <td>None</td>\n",
       "    </tr>\n",
       "    <tr>\n",
       "      <th>...</th>\n",
       "      <td>...</td>\n",
       "      <td>...</td>\n",
       "    </tr>\n",
       "    <tr>\n",
       "      <th>569881</th>\n",
       "      <td>179408277</td>\n",
       "      <td>None</td>\n",
       "    </tr>\n",
       "    <tr>\n",
       "      <th>569882</th>\n",
       "      <td>179408276</td>\n",
       "      <td>Monthly Pass</td>\n",
       "    </tr>\n",
       "    <tr>\n",
       "      <th>569883</th>\n",
       "      <td>179409877</td>\n",
       "      <td>Monthly Pass</td>\n",
       "    </tr>\n",
       "    <tr>\n",
       "      <th>569884</th>\n",
       "      <td>179409876</td>\n",
       "      <td>None</td>\n",
       "    </tr>\n",
       "    <tr>\n",
       "      <th>569885</th>\n",
       "      <td>179492474</td>\n",
       "      <td>None</td>\n",
       "    </tr>\n",
       "  </tbody>\n",
       "</table>\n",
       "<p>569886 rows × 2 columns</p>\n",
       "</div>"
      ],
      "text/plain": [
       "          trip_id passholder_type\n",
       "0        17059130    Monthly Pass\n",
       "1        17059129            None\n",
       "2        17059126    Monthly Pass\n",
       "3        17059125            None\n",
       "4        17061379            None\n",
       "...           ...             ...\n",
       "569881  179408277            None\n",
       "569882  179408276    Monthly Pass\n",
       "569883  179409877    Monthly Pass\n",
       "569884  179409876            None\n",
       "569885  179492474            None\n",
       "\n",
       "[569886 rows x 2 columns]"
      ]
     },
     "execution_count": 29,
     "metadata": {},
     "output_type": "execute_result"
    }
   ],
   "source": [
    "monthly = {0: None,\n",
    "           1: 'Monthly Pass'}\n",
    "predictions = pd.Series(y_pred_submission, name='passholder_type').map(monthly)\n",
    "output = pd.concat([data_test['trip_id'], predictions], axis=1)\n",
    "output\n",
    "# output.to_csv('submission.csv', index=False)"
   ]
  },
  {
   "cell_type": "markdown",
   "id": "8d229353",
   "metadata": {},
   "source": [
    "Resultado obtenido en Kaggle\n",
    "<img src=\"files/submission.png\" width=\"700\" height=\"400\">\n",
    "Comparto este resultado, aprovechando para señalar que el set de prueba presenta inconsistencias que afectan el rendimiento del modelo y carecen de sentido para los fines de la competencia. Las instrucciones en Kaggle eran un poco ambiguas y se proporcionaba poco contexto sobre el problema. Sin embargo, mis inferencias son lo más objetivas posibles."
   ]
  },
  {
   "cell_type": "markdown",
   "id": "e5c3499e",
   "metadata": {},
   "source": [
    "# 4. Por último, se desea poner en producción el modelo. Describa qué pasos y consideraciones usted tomaría para lograrlo.\n",
    "* Posterior al entrenamiento, debemos serializar el modelo y guardarlo.\n",
    "* La forma más fácil de implementar un modelo de Machine Learning es  a través de un servicio API que acceda a los datos guardados y los actualice periódicamente.\n",
    "* Se requiere de librerías como Flask y Django para definir la arquitectura de la API.\n",
    "* También es necesario contar con un repositorio para realizar el versionado de modelos, pues estos pueden dejar de ser efectivos con el tiempo, para lo cual es necesario hacerles modificaciones.\n",
    "* En producción se corren algoritmos de testing automatizado que son un filtro para subir a la red la nueva versión de la API.\n",
    "* Todo esto coexiste en un ecosistema DevOps de integración y distribución contínua CI/CD, como por ejemplo, gitlab."
   ]
  },
  {
   "cell_type": "markdown",
   "id": "1ec728c8",
   "metadata": {},
   "source": [
    "# Anexo\n",
    "Modelos descartados"
   ]
  },
  {
   "cell_type": "markdown",
   "id": "ac70dde4",
   "metadata": {},
   "source": [
    "1. RandomForestClassifier"
   ]
  },
  {
   "cell_type": "code",
   "execution_count": 30,
   "id": "07786690",
   "metadata": {},
   "outputs": [
    {
     "name": "stdout",
     "output_type": "stream",
     "text": [
      "Precision: 0.7210434960179701\n",
      "Exactitud: 0.7419471510311553\n",
      "Sensibilidad: 0.8942283340930963\n",
      "Especificidad: 0.5390494508275548\n"
     ]
    }
   ],
   "source": [
    "from sklearn.ensemble import RandomForestClassifier\n",
    "rfc = RandomForestClassifier(random_state=0, max_depth =7, n_estimators=10)\n",
    "rfc.fit(X_train, y_train)\n",
    "y_pred = rfc.predict(X_test)\n",
    "cnf_matrix = metrics.confusion_matrix(y_test, y_pred)\n",
    "tn, fp, fn, tp = cnf_matrix.ravel()\n",
    "print(\"Precision:\",metrics.precision_score(y_test, y_pred))\n",
    "print(\"Exactitud:\",metrics.accuracy_score(y_test, y_pred))\n",
    "print(\"Sensibilidad:\",metrics.recall_score(y_test, y_pred))\n",
    "print(\"Especificidad:\", tn / (tn + fp))"
   ]
  },
  {
   "cell_type": "markdown",
   "id": "f86044ee",
   "metadata": {},
   "source": [
    "LogisticRegression"
   ]
  },
  {
   "cell_type": "code",
   "execution_count": 31,
   "id": "9f10b5f9",
   "metadata": {},
   "outputs": [
    {
     "name": "stdout",
     "output_type": "stream",
     "text": [
      "Precision: 0.6819353518821604\n",
      "Exactitud: 0.6860600536736037\n",
      "Sensibilidad: 0.8441726181431394\n",
      "Especificidad: 0.4753926878237249\n"
     ]
    }
   ],
   "source": [
    "from sklearn.linear_model import LogisticRegression\n",
    "lr = LogisticRegression()\n",
    "lr.fit(X_train, y_train)\n",
    "y_pred = lr.predict(X_test)\n",
    "cnf_matrix = metrics.confusion_matrix(y_test, y_pred)\n",
    "tn, fp, fn, tp = cnf_matrix.ravel()\n",
    "print(\"Precision:\",metrics.precision_score(y_test, y_pred))\n",
    "print(\"Exactitud:\",metrics.accuracy_score(y_test, y_pred))\n",
    "print(\"Sensibilidad:\",metrics.recall_score(y_test, y_pred))\n",
    "print(\"Especificidad:\", tn / (tn + fp))"
   ]
  },
  {
   "cell_type": "code",
   "execution_count": 32,
   "id": "ba7ac268",
   "metadata": {},
   "outputs": [
    {
     "name": "stderr",
     "output_type": "stream",
     "text": [
      "\n",
      "KeyboardInterrupt\n",
      "\n"
     ]
    }
   ],
   "source": [
    "from sklearn.neighbors import KNeighborsClassifier\n",
    "from sklearn.model_selection import GridSearchCV\n",
    "# Mejores parámetros para KNN\n",
    "leaf_size = list(range(3,50))\n",
    "n_neighbors = list(range(3,30))\n",
    "p=[1,2]\n",
    "#Convertir a dictionario\n",
    "hyperparameters = dict(leaf_size=leaf_size, n_neighbors=n_neighbors, p=p)\n",
    "knn_2 = KNeighborsClassifier()\n",
    "#Usando GridSearch\n",
    "clf = GridSearchCV(knn_2, hyperparameters, cv=10)\n",
    "#Fit the model\n",
    "best_model = clf.fit(X_train, y_train)\n",
    "#Print The value of best Hyperparameters\n",
    "print('Best leaf_size:', best_model.best_estimator_.get_params()['leaf_size'])\n",
    "print('Best p:', best_model.best_estimator_.get_params()['p'])\n",
    "print('Best n_neighbors:', best_model.best_estimator_.get_params()['n_neighbors'])"
   ]
  },
  {
   "cell_type": "markdown",
   "id": "e0378bbf",
   "metadata": {},
   "source": [
    "3. KNeighborsClassifier"
   ]
  },
  {
   "cell_type": "code",
   "execution_count": 38,
   "id": "3b6b5234",
   "metadata": {},
   "outputs": [
    {
     "name": "stdout",
     "output_type": "stream",
     "text": [
      "Precision: 0.7316237529470518\n",
      "Exactitud: 0.7172732073233364\n",
      "Sensibilidad: 0.7976877880767868\n",
      "Especificidad: 0.6101297430446593\n"
     ]
    }
   ],
   "source": [
    "from sklearn.neighbors import KNeighborsClassifier\n",
    "knn = KNeighborsClassifier(n_neighbors=5)\n",
    "knn.fit(X_train, y_train)\n",
    "y_pred = knn.predict(X_test)\n",
    "cnf_matrix = metrics.confusion_matrix(y_test, y_pred)\n",
    "tn, fp, fn, tp = cnf_matrix.ravel()\n",
    "print(\"Precision:\",metrics.precision_score(y_test, y_pred))\n",
    "print(\"Exactitud:\",metrics.accuracy_score(y_test, y_pred))\n",
    "print(\"Sensibilidad:\",metrics.recall_score(y_test, y_pred))\n",
    "print(\"Especificidad:\", tn / (tn + fp))"
   ]
  },
  {
   "cell_type": "code",
   "execution_count": null,
   "id": "94e866a3",
   "metadata": {},
   "outputs": [],
   "source": []
  }
 ],
 "metadata": {
  "kernelspec": {
   "display_name": "Python 3 (ipykernel)",
   "language": "python",
   "name": "python3"
  },
  "language_info": {
   "codemirror_mode": {
    "name": "ipython",
    "version": 3
   },
   "file_extension": ".py",
   "mimetype": "text/x-python",
   "name": "python",
   "nbconvert_exporter": "python",
   "pygments_lexer": "ipython3",
   "version": "3.9.7"
  }
 },
 "nbformat": 4,
 "nbformat_minor": 5
}
